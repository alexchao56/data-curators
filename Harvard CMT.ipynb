{
 "metadata": {
  "name": "Harvard CMT"
 },
 "nbformat": 3,
 "nbformat_minor": 0,
 "worksheets": [
  {
   "cells": [
    {
     "cell_type": "markdown",
     "metadata": {},
     "source": [
      "we use [urllib.urlretrieve](http://docs.python.org/2/library/urllib.html#urllib.urlretrieve) to save the contents at the url in to the file.\n"
     ]
    },
    {
     "cell_type": "code",
     "collapsed": false,
     "input": [
      "import urllib\n",
      "\n",
      "url= 'http://www.ldeo.columbia.edu/~gcmt/projects/CMT/catalog/jan76_dec10.ndk.gz'\n",
      "urllib.urlretrieve(url, 'jan76_dec10.ndk.gz')"
     ],
     "language": "python",
     "metadata": {},
     "outputs": [
      {
       "output_type": "pyout",
       "prompt_number": 3,
       "text": [
        "('jan76_dec10.ndk.gz', <httplib.HTTPMessage instance at 0x422fb00>)"
       ]
      }
     ],
     "prompt_number": 3
    }
   ],
   "metadata": {}
  }
 ]
}