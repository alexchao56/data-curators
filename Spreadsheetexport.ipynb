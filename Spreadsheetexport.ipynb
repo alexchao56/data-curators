{
 "metadata": {
  "name": "Spreadsheetexport"
 },
 "nbformat": 3,
 "nbformat_minor": 0,
 "worksheets": [
  {
   "cells": [
    {
     "cell_type": "code",
     "collapsed": false,
     "input": [
      "import sys\n",
      "import urllib\n",
      "import os\n",
      "import pandas as pd\n",
      "\n",
      "def download_extract_data(src_url,file_name, extract_dir):\n",
      "    '''\n",
      "    Given a src_url, downloads the archived earthquake data.\n",
      "    Then, extracts the data into the extract_dir. \n",
      "    Will create extract_dir if it doesn't exist.\n",
      "    '''\n",
      "    print \"Download initialized\"\n",
      "    urllib.urlretrieve(src_url, file_name)\n",
      "    print \"Download complete\"\n",
      "\n",
      "    #create the directory, if it doesn't exist\n",
      "    if not os.path.exists(extract_dir):\n",
      "        os.makedirs(extract_dir)\n",
      "\n",
      "    #tar into the target file\n",
      "    os.system(\"tar -xvzf %s -C %s\" % (file_name, extract_dir))\n",
      "    print \"Extracted data into %s\" % extract_dir\n",
      "\n",
      "    #moving the downloaded file into the extract_dir\n",
      "    os.system(\"mv %s %s\" % (file_name, extract_dir))\n",
      "\n",
      "\n",
      "def get_catalog_dict(catalog_dir):\n",
      "    ''' \n",
      "    Given a directory, returns dict of  *.catalog in the directory.\n",
      "    Includes RELATIVE location of the file, as well as the name.\n",
      "    dict <K,V> format of <relative_path_dir+file_name, file_name>\n",
      "    Will traverse sub-directories.\n",
      "    example:\n",
      "    {\"temp/SCEC_DC/1999.catalog\":\"1999.catalog\"}\n",
      "    '''\n",
      "    catalogs = {}\n",
      "    for curdir, dirs, files in os.walk(catalog_dir):\n",
      "        for check_file in files:\n",
      "            if '.catalog' in check_file: #TODO change to regex to make fancy\n",
      "                catalogs[os.path.join(curdir,check_file)] = check_file\n",
      "    print \"Grabbed catalog_dict\"\n",
      "    return catalogs\n",
      "\n",
      "def parse_and_output(catalog_dict, output_dir, format):\n",
      "    '''\n",
      "    Outputs the catalogs in catalog_dict into output_dir, in specified format\n",
      "    Throws @ValueError if format is not supported\n",
      "    '''\n",
      "    #create the directory, if it doesn't exist\n",
      "    if not os.path.exists(output_dir):\n",
      "        os.makedirs(output_dir)\n",
      "\n",
      "    for catalog_path, catalog_name in catalog_dict.items():\n",
      "        if format == \"csv\":\n",
      "            output_csv(catalog_path, catalog_name, output_dir)\n",
      "        else:\n",
      "            raise ValueError(\"Undefined format: '%s'\" % format)\n",
      "    print \"Outputted %s items into %s\" % (len(catalog_dict), output_dir)\n",
      "\n",
      "def output_csv(catalog_path, catalog_name, output_dir):\n",
      "    '''\n",
      "    Given the path and the name of the catalog,\n",
      "    Outputs the catalog into output_dir.\n",
      "    '''\n",
      "    head_size = 0 \n",
      "    f = open(catalog_path, 'r')\n",
      "    #figure out how many lines to skip!\n",
      "    for line in f:\n",
      "        if line.startswith(\"#\"):\n",
      "            head_size += 1\n",
      "        else:\n",
      "            break\n",
      "\n",
      "    skip_length = head_size-1\n",
      "    head_row_loc = head_size-2\n",
      "\n",
      "    data_frame = pd.read_csv(catalog_path, header=head_row_loc, skiprows=skip_length, delimiter=r\"\\s+\")\n",
      "    #data_frame.rename(columns={\"#YYY/MD/DD\": \"YYYY/MD/DD\"}, inplace=True)\n",
      "    data_frame.rename(columns=lambda x: x.replace(\"#YYY\", \"YYYY\"), inplace=True)\n",
      "    data_frame.to_csv(os.path.join(output_dir, catalog_name+\".csv\"), index = False)\n",
      "\n",
      "\n",
      "\n",
      "if __name__ == \"__main__\":\n",
      "    url= 'http://www.data.scec.org/ftp/catalogs/SCEC_DC/SCEDC_catalogs.tar.gz'\n",
      "    file_name = 'SCED_catalogs.tar.gz'\n",
      "\n",
      "    #url= 'http://www.data.scec.org/ftp/catalogs/SCSN/SCSN_catalogs.tar.gz'\n",
      "    #file_name = 'SCSN_catalogs.tar.gz'\n",
      "\n",
      "    dirty_dir = \"dirty_data/\"\n",
      "    clean_dir = \"clean_data/\"\n",
      "    download_extract_data(url,file_name, dirty_dir)\n",
      "    catalog_dict =  get_catalog_dict(dirty_dir)\n",
      "    parse_and_output(catalog_dict, clean_dir, 'csv')\n",
      "\n",
      "# <codecell>\n",
      "\n",
      "from pandas import read_csv\n",
      "from pandas import concat\n",
      "\n",
      "def files(year):\n",
      "    name = 'clean_data/' + str(year) + '.catalog.csv'\n",
      "    a = read_csv(name)\n",
      "    return a\n",
      "\n",
      "year = range(1938, 2014)\n",
      "\n",
      "allData = files(year[0])\n",
      "\n",
      "for i in range(1,len(year)):\n",
      "    newData = files(year[i])\n",
      "    allData = concat([allData,newData])"
     ],
     "language": "python",
     "metadata": {},
     "outputs": []
    },
    {
     "cell_type": "code",
     "collapsed": false,
     "input": [
      "import os.path\n",
      "import ConfigParser"
     ],
     "language": "python",
     "metadata": {},
     "outputs": []
    },
    {
     "cell_type": "code",
     "collapsed": false,
     "input": [
      "from itertools import islice\n",
      "def take(n, iterable):\n",
      "    \"Return first n items of the iterable as a list\"\n",
      "    return list(islice(iterable, n))"
     ],
     "language": "python",
     "metadata": {},
     "outputs": []
    },
    {
     "cell_type": "code",
     "collapsed": false,
     "input": [
      "home = os.path.expanduser(\"~\")\n",
      "configfile = os.path.join(home, 'stat157.cfg')\n",
      "config = ConfigParser.SafeConfigParser()\n",
      "config.read(configfile)\n",
      "username = config.get('google', 'username')\n",
      "password = config.get('google', 'password')\n",
      "print username"
     ],
     "language": "python",
     "metadata": {},
     "outputs": []
    },
    {
     "cell_type": "code",
     "collapsed": false,
     "input": [
      "import gspread\n",
      "gspread_client = gspread.login(username, password)"
     ],
     "language": "python",
     "metadata": {},
     "outputs": []
    },
    {
     "cell_type": "code",
     "collapsed": false,
     "input": [
      "import gdata.docs.client\n",
      "gdata_client = gdata.docs.client.DocsClient()\n",
      "gdata_client.ClientLogin(username, password, 'Stat157 Client')\n",
      "filename = \"stat157-quake-data\"\n",
      "document = gdata.docs.data.Resource(type='spreadsheet', title = filename)\n",
      "document = gdata_client.CreateResource(document)\n",
      "document"
     ],
     "language": "python",
     "metadata": {},
     "outputs": []
    },
    {
     "cell_type": "code",
     "collapsed": false,
     "input": [
      "try:\n",
      "    gspread_client.open(filename)\n",
      "except Exception, e:\n",
      "    document = gdata.docs.data.Resource(type='spreadsheet', title=filename)\n",
      "    document = gd_client.CreateResource(document)"
     ],
     "language": "python",
     "metadata": {},
     "outputs": []
    },
    {
     "cell_type": "code",
     "collapsed": false,
     "input": [
      "spreadsheet = gspread_client.open(filename)\n",
      "worksheet = spreadsheet.get_worksheet(0)"
     ],
     "language": "python",
     "metadata": {},
     "outputs": []
    },
    {
     "cell_type": "markdown",
     "metadata": {},
     "source": [
      "Setting up the Spreadsheet export"
     ]
    },
    {
     "cell_type": "code",
     "collapsed": false,
     "input": [
      "lastcall = len(allData.DEPTH)\n",
      "variables = #number of columns to curate"
     ],
     "language": "python",
     "metadata": {},
     "outputs": [
      {
       "output_type": "pyout",
       "prompt_number": 12,
       "text": [
        "['a', 'b', 'c', 'd', 'e', 'f', 'g', 'h', 'i', 'j']"
       ]
      }
     ],
     "prompt_number": 12
    },
    {
     "cell_type": "code",
     "collapsed": false,
     "input": [
      "worksheet.add_rows(lastcall)\n",
      "worksheet.add_cols(variables)"
     ],
     "language": "python",
     "metadata": {},
     "outputs": []
    },
    {
     "cell_type": "markdown",
     "metadata": {},
     "source": []
    },
    {
     "cell_type": "code",
     "collapsed": false,
     "input": [
      "import string\n",
      "column_name = list(string.ascii_lowercase)"
     ],
     "language": "python",
     "metadata": {},
     "outputs": [
      {
       "output_type": "pyout",
       "prompt_number": 13,
       "text": [
        "['a',\n",
        " 'b',\n",
        " 'c',\n",
        " 'd',\n",
        " 'e',\n",
        " 'f',\n",
        " 'g',\n",
        " 'h',\n",
        " 'i',\n",
        " 'j',\n",
        " 'k',\n",
        " 'l',\n",
        " 'm',\n",
        " 'n',\n",
        " 'o',\n",
        " 'p',\n",
        " 'q',\n",
        " 'r',\n",
        " 's',\n",
        " 't',\n",
        " 'u',\n",
        " 'v',\n",
        " 'w',\n",
        " 'x',\n",
        " 'y',\n",
        " 'z']"
       ]
      }
     ],
     "prompt_number": 13
    },
    {
     "cell_type": "code",
     "collapsed": false,
     "input": [
      "for z in range(1, variables):\n",
      "    for x in range(1, lastcall):\n",
      "        cell = z + str(x)\n",
      "        worksheet.update_acell(\"\")"
     ],
     "language": "python",
     "metadata": {},
     "outputs": [
      {
       "ename": "NameError",
       "evalue": "name 'lastcall' is not defined",
       "output_type": "pyerr",
       "traceback": [
        "\u001b[0;31m---------------------------------------------------------------------------\u001b[0m\n\u001b[0;31mNameError\u001b[0m                                 Traceback (most recent call last)",
        "\u001b[0;32m<ipython-input-9-9c82ae1259e2>\u001b[0m in \u001b[0;36m<module>\u001b[0;34m()\u001b[0m\n\u001b[1;32m      1\u001b[0m \u001b[0;32mfor\u001b[0m \u001b[0mz\u001b[0m \u001b[0;32min\u001b[0m \u001b[0;34m(\u001b[0m\u001b[0;34m'a'\u001b[0m\u001b[0;34m,\u001b[0m\u001b[0;34m'b'\u001b[0m\u001b[0;34m,\u001b[0m\u001b[0;34m'c'\u001b[0m\u001b[0;34m,\u001b[0m\u001b[0;34m'd'\u001b[0m\u001b[0;34m,\u001b[0m\u001b[0;34m'e'\u001b[0m \u001b[0;34m'f'\u001b[0m\u001b[0;34m)\u001b[0m\u001b[0;34m:\u001b[0m\u001b[0;34m\u001b[0m\u001b[0m\n\u001b[0;32m----> 2\u001b[0;31m     \u001b[0;32mfor\u001b[0m \u001b[0mx\u001b[0m \u001b[0;32min\u001b[0m \u001b[0mrange\u001b[0m\u001b[0;34m(\u001b[0m\u001b[0;36m1\u001b[0m\u001b[0;34m,\u001b[0m \u001b[0mlastcall\u001b[0m\u001b[0;34m)\u001b[0m\u001b[0;34m:\u001b[0m\u001b[0;34m\u001b[0m\u001b[0m\n\u001b[0m\u001b[1;32m      3\u001b[0m         \u001b[0mcell\u001b[0m \u001b[0;34m=\u001b[0m \u001b[0mz\u001b[0m \u001b[0;34m+\u001b[0m \u001b[0mstr\u001b[0m\u001b[0;34m(\u001b[0m\u001b[0mx\u001b[0m\u001b[0;34m)\u001b[0m\u001b[0;34m\u001b[0m\u001b[0m\n\u001b[1;32m      4\u001b[0m         \u001b[0mworksheet\u001b[0m\u001b[0;34m.\u001b[0m\u001b[0mupdate_acell\u001b[0m\u001b[0;34m(\u001b[0m\u001b[0;34m\"\"\u001b[0m\u001b[0;34m)\u001b[0m\u001b[0;34m\u001b[0m\u001b[0m\n",
        "\u001b[0;31mNameError\u001b[0m: name 'lastcall' is not defined"
       ]
      }
     ],
     "prompt_number": 9
    }
   ],
   "metadata": {}
  }
 ]
}