{
 "metadata": {
  "name": "Spreadsheetexport"
 },
 "nbformat": 3,
 "nbformat_minor": 0,
 "worksheets": [
  {
   "cells": [
    {
     "cell_type": "code",
     "collapsed": false,
     "input": [
      "import os.path\n",
      "import ConfigParser"
     ],
     "language": "python",
     "metadata": {},
     "outputs": []
    },
    {
     "cell_type": "code",
     "collapsed": false,
     "input": [
      "from itertools import islice\n",
      "def take(n, iterable):\n",
      "    \"Return first n items of the iterable as a list\"\n",
      "    return list(islice(iterable, n))"
     ],
     "language": "python",
     "metadata": {},
     "outputs": []
    },
    {
     "cell_type": "code",
     "collapsed": false,
     "input": [
      "home = os.path.expanduser(\"~\")\n",
      "configfile = os.path.join(home, 'stat157.cfg')\n",
      "config = ConfigParser.SafeConfigParser()\n",
      "config.read(configfile)\n",
      "username = config.get('google', 'username')\n",
      "password = config.get('google', 'password')\n",
      "print username"
     ],
     "language": "python",
     "metadata": {},
     "outputs": []
    },
    {
     "cell_type": "code",
     "collapsed": false,
     "input": [
      "import gspread\n",
      "gspread_client = gspread.login(username, password)"
     ],
     "language": "python",
     "metadata": {},
     "outputs": []
    },
    {
     "cell_type": "code",
     "collapsed": false,
     "input": [
      "import gdata.docs.client\n",
      "gdata_client = gdata.docs.client.DocsClient()\n",
      "gdata_client.ClientLogin(username, password, 'Stat157 Client')\n",
      "filename = \"stat157-quake-data\"\n",
      "document = gdata.docs.data.Resource(type='spreadsheet', title = filename)\n",
      "document = gdata_client.CreateResource(document)\n",
      "document"
     ],
     "language": "python",
     "metadata": {},
     "outputs": []
    },
    {
     "cell_type": "code",
     "collapsed": false,
     "input": [
      "try:\n",
      "    gspread_client.open(filename)\n",
      "except Exception, e:\n",
      "    document = gdata.docs.data.Resource(type='spreadsheet', title=filename)\n",
      "    document = gd_client.CreateResource(document)"
     ],
     "language": "python",
     "metadata": {},
     "outputs": []
    },
    {
     "cell_type": "code",
     "collapsed": false,
     "input": [
      "spreadsheet = gspread_client.open(filename)\n",
      "worksheet = spreadsheet.get_worksheet(0)"
     ],
     "language": "python",
     "metadata": {},
     "outputs": []
    },
    {
     "cell_type": "code",
     "collapsed": false,
     "input": [
      "lastcall = len(df.Code)\n",
      "variables = 9"
     ],
     "language": "python",
     "metadata": {},
     "outputs": []
    },
    {
     "cell_type": "code",
     "collapsed": false,
     "input": [
      "worksheet.add_rows(lastcall)\n",
      "worksheet.add_cols(variables)"
     ],
     "language": "python",
     "metadata": {},
     "outputs": []
    },
    {
     "cell_type": "code",
     "collapsed": false,
     "input": [
      "for z in ('a','b','c','d','e' 'f'):\n",
      "    for x in range(1, lastcall):\n",
      "        cell = z + str(x)\n",
      "        worksheet.update_acell(\"\")"
     ],
     "language": "python",
     "metadata": {},
     "outputs": []
    },
    {
     "cell_type": "code",
     "collapsed": false,
     "input": [],
     "language": "python",
     "metadata": {},
     "outputs": [],
     "prompt_number": 1
    }
   ],
   "metadata": {}
  }
 ]
}